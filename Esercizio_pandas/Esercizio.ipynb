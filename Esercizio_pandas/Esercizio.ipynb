{
 "cells": [
  {
   "cell_type": "markdown",
   "id": "7b57062a",
   "metadata": {},
   "source": [
    "Importo le librerie pandas,"
   ]
  },
  {
   "cell_type": "code",
   "execution_count": 1,
   "id": "367abb4f",
   "metadata": {},
   "outputs": [],
   "source": [
    "import pandas as pd\n",
    "import os\n",
    "import plotly.express as px\n"
   ]
  },
  {
   "cell_type": "markdown",
   "id": "2e064650",
   "metadata": {},
   "source": [
    "Creazione del path"
   ]
  },
  {
   "cell_type": "code",
   "execution_count": 2,
   "id": "c4db9d53",
   "metadata": {},
   "outputs": [
    {
     "name": "stdout",
     "output_type": "stream",
     "text": [
      "c:\\Users\\daniele\\Desktop\\Esercizio_pandas\\dataset\\esercizio_pandas.xlsx\n"
     ]
    }
   ],
   "source": [
    "curdir = os.getcwd()\n",
    "dsdir = os.path.join(curdir, 'dataset')\n",
    "dspath = os.path.join(dsdir, 'esercizio_pandas.xlsx')\n",
    "print(dspath)"
   ]
  },
  {
   "cell_type": "markdown",
   "id": "78ae4e95",
   "metadata": {},
   "source": [
    "Creazione dataset con pandas"
   ]
  },
  {
   "cell_type": "code",
   "execution_count": 3,
   "id": "bcc456e4",
   "metadata": {},
   "outputs": [
    {
     "data": {
      "text/html": [
       "<div>\n",
       "<style scoped>\n",
       "    .dataframe tbody tr th:only-of-type {\n",
       "        vertical-align: middle;\n",
       "    }\n",
       "\n",
       "    .dataframe tbody tr th {\n",
       "        vertical-align: top;\n",
       "    }\n",
       "\n",
       "    .dataframe thead th {\n",
       "        text-align: right;\n",
       "    }\n",
       "</style>\n",
       "<table border=\"1\" class=\"dataframe\">\n",
       "  <thead>\n",
       "    <tr style=\"text-align: right;\">\n",
       "      <th></th>\n",
       "      <th>Anni</th>\n",
       "      <th>Commercio_al_minuto_commesso</th>\n",
       "      <th>Trasporti_tramviari_op_guidatore</th>\n",
       "      <th>Energia_elettrica_op_2cat</th>\n",
       "      <th>Industria_meccanica_op_2cat</th>\n",
       "      <th>Industria_meccanica_imp_3cat</th>\n",
       "    </tr>\n",
       "  </thead>\n",
       "  <tbody>\n",
       "    <tr>\n",
       "      <th>0</th>\n",
       "      <td>1990</td>\n",
       "      <td>9357.70</td>\n",
       "      <td>15152.900000</td>\n",
       "      <td>12954.600000</td>\n",
       "      <td>9505.600000</td>\n",
       "      <td>9603.900000</td>\n",
       "    </tr>\n",
       "    <tr>\n",
       "      <th>1</th>\n",
       "      <td>1991</td>\n",
       "      <td>10340.30</td>\n",
       "      <td>16198.400000</td>\n",
       "      <td>14224.100000</td>\n",
       "      <td>10579.800000</td>\n",
       "      <td>10766.000000</td>\n",
       "    </tr>\n",
       "    <tr>\n",
       "      <th>2</th>\n",
       "      <td>1992</td>\n",
       "      <td>11074.50</td>\n",
       "      <td>16538.600000</td>\n",
       "      <td>14935.300000</td>\n",
       "      <td>11108.700000</td>\n",
       "      <td>11325.800000</td>\n",
       "    </tr>\n",
       "    <tr>\n",
       "      <th>3</th>\n",
       "      <td>1993</td>\n",
       "      <td>11550.70</td>\n",
       "      <td>16670.900000</td>\n",
       "      <td>15622.300000</td>\n",
       "      <td>11530.900000</td>\n",
       "      <td>11778.900000</td>\n",
       "    </tr>\n",
       "    <tr>\n",
       "      <th>4</th>\n",
       "      <td>1994</td>\n",
       "      <td>12289.90</td>\n",
       "      <td>16670.900000</td>\n",
       "      <td>16356.500000</td>\n",
       "      <td>11761.500000</td>\n",
       "      <td>12038.000000</td>\n",
       "    </tr>\n",
       "    <tr>\n",
       "      <th>5</th>\n",
       "      <td>1995</td>\n",
       "      <td>12806.10</td>\n",
       "      <td>17354.400000</td>\n",
       "      <td>16945.300000</td>\n",
       "      <td>12279.000000</td>\n",
       "      <td>12627.900000</td>\n",
       "    </tr>\n",
       "    <tr>\n",
       "      <th>6</th>\n",
       "      <td>1996</td>\n",
       "      <td>13369.60</td>\n",
       "      <td>17927.100000</td>\n",
       "      <td>17623.100000</td>\n",
       "      <td>12647.400000</td>\n",
       "      <td>13044.600000</td>\n",
       "    </tr>\n",
       "    <tr>\n",
       "      <th>7</th>\n",
       "      <td>1997</td>\n",
       "      <td>14171.80</td>\n",
       "      <td>18052.600000</td>\n",
       "      <td>18645.200000</td>\n",
       "      <td>13165.900000</td>\n",
       "      <td>13631.600000</td>\n",
       "    </tr>\n",
       "    <tr>\n",
       "      <th>8</th>\n",
       "      <td>1998</td>\n",
       "      <td>15050.50</td>\n",
       "      <td>18937.200000</td>\n",
       "      <td>19502.900000</td>\n",
       "      <td>13574.100000</td>\n",
       "      <td>14067.800000</td>\n",
       "    </tr>\n",
       "    <tr>\n",
       "      <th>9</th>\n",
       "      <td>1999</td>\n",
       "      <td>15818.10</td>\n",
       "      <td>19202.300000</td>\n",
       "      <td>19541.900000</td>\n",
       "      <td>13859.100000</td>\n",
       "      <td>14391.400000</td>\n",
       "    </tr>\n",
       "    <tr>\n",
       "      <th>10</th>\n",
       "      <td>2000</td>\n",
       "      <td>16023.70</td>\n",
       "      <td>19202.300000</td>\n",
       "      <td>19541.900000</td>\n",
       "      <td>14177.900000</td>\n",
       "      <td>15024.600000</td>\n",
       "    </tr>\n",
       "    <tr>\n",
       "      <th>11</th>\n",
       "      <td>2001</td>\n",
       "      <td>16232.04</td>\n",
       "      <td>19298.300000</td>\n",
       "      <td>19639.582014</td>\n",
       "      <td>14433.075994</td>\n",
       "      <td>15310.058776</td>\n",
       "    </tr>\n",
       "    <tr>\n",
       "      <th>12</th>\n",
       "      <td>2002</td>\n",
       "      <td>16759.10</td>\n",
       "      <td>19336.885938</td>\n",
       "      <td>20108.418848</td>\n",
       "      <td>14847.455903</td>\n",
       "      <td>15789.283654</td>\n",
       "    </tr>\n",
       "    <tr>\n",
       "      <th>13</th>\n",
       "      <td>2003</td>\n",
       "      <td>17139.10</td>\n",
       "      <td>19427.459307</td>\n",
       "      <td>20420.223960</td>\n",
       "      <td>15132.946677</td>\n",
       "      <td>16117.594519</td>\n",
       "    </tr>\n",
       "    <tr>\n",
       "      <th>14</th>\n",
       "      <td>2004</td>\n",
       "      <td>17428.80</td>\n",
       "      <td>20249.645653</td>\n",
       "      <td>20813.982090</td>\n",
       "      <td>15573.021926</td>\n",
       "      <td>16626.165417</td>\n",
       "    </tr>\n",
       "    <tr>\n",
       "      <th>15</th>\n",
       "      <td>2005</td>\n",
       "      <td>18459.70</td>\n",
       "      <td>20702.968671</td>\n",
       "      <td>21676.012685</td>\n",
       "      <td>16039.965640</td>\n",
       "      <td>16941.776218</td>\n",
       "    </tr>\n",
       "    <tr>\n",
       "      <th>16</th>\n",
       "      <td>2006</td>\n",
       "      <td>18762.30</td>\n",
       "      <td>21276.799962</td>\n",
       "      <td>21860.566285</td>\n",
       "      <td>16586.060894</td>\n",
       "      <td>17569.904776</td>\n",
       "    </tr>\n",
       "    <tr>\n",
       "      <th>17</th>\n",
       "      <td>2007</td>\n",
       "      <td>19162.40</td>\n",
       "      <td>22015.543848</td>\n",
       "      <td>22726.521485</td>\n",
       "      <td>16959.387562</td>\n",
       "      <td>17994.515353</td>\n",
       "    </tr>\n",
       "    <tr>\n",
       "      <th>18</th>\n",
       "      <td>2008</td>\n",
       "      <td>19546.80</td>\n",
       "      <td>22456.619275</td>\n",
       "      <td>23326.289485</td>\n",
       "      <td>17514.250414</td>\n",
       "      <td>18628.414679</td>\n",
       "    </tr>\n",
       "    <tr>\n",
       "      <th>19</th>\n",
       "      <td>2009</td>\n",
       "      <td>20273.30</td>\n",
       "      <td>22838.297484</td>\n",
       "      <td>23824.479885</td>\n",
       "      <td>18022.330135</td>\n",
       "      <td>19208.355128</td>\n",
       "    </tr>\n",
       "    <tr>\n",
       "      <th>20</th>\n",
       "      <td>2010</td>\n",
       "      <td>20978.00</td>\n",
       "      <td>23791.900000</td>\n",
       "      <td>22738.100000</td>\n",
       "      <td>18109.100000</td>\n",
       "      <td>19751.400000</td>\n",
       "    </tr>\n",
       "    <tr>\n",
       "      <th>21</th>\n",
       "      <td>2011</td>\n",
       "      <td>21392.00</td>\n",
       "      <td>23791.900000</td>\n",
       "      <td>23216.300000</td>\n",
       "      <td>18497.400000</td>\n",
       "      <td>20203.900000</td>\n",
       "    </tr>\n",
       "    <tr>\n",
       "      <th>22</th>\n",
       "      <td>2012</td>\n",
       "      <td>21753.10</td>\n",
       "      <td>23791.900000</td>\n",
       "      <td>23757.700000</td>\n",
       "      <td>18905.200000</td>\n",
       "      <td>20679.000000</td>\n",
       "    </tr>\n",
       "    <tr>\n",
       "      <th>23</th>\n",
       "      <td>2013</td>\n",
       "      <td>22201.30</td>\n",
       "      <td>23791.900000</td>\n",
       "      <td>24075.500000</td>\n",
       "      <td>19292.700000</td>\n",
       "      <td>21075.000000</td>\n",
       "    </tr>\n",
       "    <tr>\n",
       "      <th>24</th>\n",
       "      <td>2014</td>\n",
       "      <td>22427.10</td>\n",
       "      <td>23791.900000</td>\n",
       "      <td>24602.700000</td>\n",
       "      <td>19764.300000</td>\n",
       "      <td>21584.000000</td>\n",
       "    </tr>\n",
       "    <tr>\n",
       "      <th>25</th>\n",
       "      <td>2015</td>\n",
       "      <td>22621.20</td>\n",
       "      <td>23829.900000</td>\n",
       "      <td>25104.200000</td>\n",
       "      <td>20251.700000</td>\n",
       "      <td>22149.700000</td>\n",
       "    </tr>\n",
       "  </tbody>\n",
       "</table>\n",
       "</div>"
      ],
      "text/plain": [
       "    Anni  Commercio_al_minuto_commesso  Trasporti_tramviari_op_guidatore  \\\n",
       "0   1990                       9357.70                      15152.900000   \n",
       "1   1991                      10340.30                      16198.400000   \n",
       "2   1992                      11074.50                      16538.600000   \n",
       "3   1993                      11550.70                      16670.900000   \n",
       "4   1994                      12289.90                      16670.900000   \n",
       "5   1995                      12806.10                      17354.400000   \n",
       "6   1996                      13369.60                      17927.100000   \n",
       "7   1997                      14171.80                      18052.600000   \n",
       "8   1998                      15050.50                      18937.200000   \n",
       "9   1999                      15818.10                      19202.300000   \n",
       "10  2000                      16023.70                      19202.300000   \n",
       "11  2001                      16232.04                      19298.300000   \n",
       "12  2002                      16759.10                      19336.885938   \n",
       "13  2003                      17139.10                      19427.459307   \n",
       "14  2004                      17428.80                      20249.645653   \n",
       "15  2005                      18459.70                      20702.968671   \n",
       "16  2006                      18762.30                      21276.799962   \n",
       "17  2007                      19162.40                      22015.543848   \n",
       "18  2008                      19546.80                      22456.619275   \n",
       "19  2009                      20273.30                      22838.297484   \n",
       "20  2010                      20978.00                      23791.900000   \n",
       "21  2011                      21392.00                      23791.900000   \n",
       "22  2012                      21753.10                      23791.900000   \n",
       "23  2013                      22201.30                      23791.900000   \n",
       "24  2014                      22427.10                      23791.900000   \n",
       "25  2015                      22621.20                      23829.900000   \n",
       "\n",
       "    Energia_elettrica_op_2cat  Industria_meccanica_op_2cat  \\\n",
       "0                12954.600000                  9505.600000   \n",
       "1                14224.100000                 10579.800000   \n",
       "2                14935.300000                 11108.700000   \n",
       "3                15622.300000                 11530.900000   \n",
       "4                16356.500000                 11761.500000   \n",
       "5                16945.300000                 12279.000000   \n",
       "6                17623.100000                 12647.400000   \n",
       "7                18645.200000                 13165.900000   \n",
       "8                19502.900000                 13574.100000   \n",
       "9                19541.900000                 13859.100000   \n",
       "10               19541.900000                 14177.900000   \n",
       "11               19639.582014                 14433.075994   \n",
       "12               20108.418848                 14847.455903   \n",
       "13               20420.223960                 15132.946677   \n",
       "14               20813.982090                 15573.021926   \n",
       "15               21676.012685                 16039.965640   \n",
       "16               21860.566285                 16586.060894   \n",
       "17               22726.521485                 16959.387562   \n",
       "18               23326.289485                 17514.250414   \n",
       "19               23824.479885                 18022.330135   \n",
       "20               22738.100000                 18109.100000   \n",
       "21               23216.300000                 18497.400000   \n",
       "22               23757.700000                 18905.200000   \n",
       "23               24075.500000                 19292.700000   \n",
       "24               24602.700000                 19764.300000   \n",
       "25               25104.200000                 20251.700000   \n",
       "\n",
       "    Industria_meccanica_imp_3cat  \n",
       "0                    9603.900000  \n",
       "1                   10766.000000  \n",
       "2                   11325.800000  \n",
       "3                   11778.900000  \n",
       "4                   12038.000000  \n",
       "5                   12627.900000  \n",
       "6                   13044.600000  \n",
       "7                   13631.600000  \n",
       "8                   14067.800000  \n",
       "9                   14391.400000  \n",
       "10                  15024.600000  \n",
       "11                  15310.058776  \n",
       "12                  15789.283654  \n",
       "13                  16117.594519  \n",
       "14                  16626.165417  \n",
       "15                  16941.776218  \n",
       "16                  17569.904776  \n",
       "17                  17994.515353  \n",
       "18                  18628.414679  \n",
       "19                  19208.355128  \n",
       "20                  19751.400000  \n",
       "21                  20203.900000  \n",
       "22                  20679.000000  \n",
       "23                  21075.000000  \n",
       "24                  21584.000000  \n",
       "25                  22149.700000  "
      ]
     },
     "metadata": {},
     "output_type": "display_data"
    }
   ],
   "source": [
    "df = pd.read_excel(dspath, skiprows=8, skipfooter= 4)\n",
    "columns = ['Anni', 'Commercio_al_minuto_commesso', 'Trasporti_tramviari_op_guidatore', 'Energia_elettrica_op_2cat', 'Industria_meccanica_op_2cat', 'Industria_meccanica_imp_3cat']\n",
    "df = df.dropna(axis=1, how='all')\n",
    "df.columns = columns\n",
    "display(df)"
   ]
  },
  {
   "cell_type": "markdown",
   "id": "c13107ec",
   "metadata": {},
   "source": [
    "Creazione grafico lineare con plotly.express"
   ]
  },
  {
   "cell_type": "code",
   "execution_count": 5,
   "id": "b662eb37",
   "metadata": {},
   "outputs": [
    {
     "data": {
      "application/vnd.plotly.v1+json": {
       "config": {
        "plotlyServerURL": "https://plot.ly"
       },
       "data": [
        {
         "hovertemplate": "variable=Commercio_al_minuto_commesso<br>Anni=%{x}<br>value=%{y}<extra></extra>",
         "legendgroup": "Commercio_al_minuto_commesso",
         "line": {
          "color": "#636efa",
          "dash": "solid"
         },
         "marker": {
          "symbol": "circle"
         },
         "mode": "lines",
         "name": "Commercio_al_minuto_commesso",
         "orientation": "v",
         "showlegend": true,
         "type": "scatter",
         "x": {
          "bdata": "xgfHB8gHyQfKB8sHzAfNB84HzwfQB9EH0gfTB9QH1QfWB9cH2AfZB9oH2wfcB90H3gffBw==",
          "dtype": "i2"
         },
         "xaxis": "x",
         "y": {
          "bdata": "mpmZmdlGwkBmZmZmJjLEQAAAAABAocVAmpmZmVmPxkAzMzMz8wDIQM3MzMwMA8lAzczMzMwcykBmZmZm5q3LQAAAAABAZc1AzczMzAzlzkCamZmZ2UvPQOxRuB4FtM9AZmZmZsZd0EBmZmZmxrzQQDMzMzMzBdFAzczMzOwG0kAzMzMzk1LSQJqZmZmZttJAMzMzM7MW00AzMzMzU8zTQAAAAACAfNRAAAAAAADk1EBmZmZmRj7VQDMzMzNTrtVAZmZmZsbm1UDNzMzMTBfWQA==",
          "dtype": "f8"
         },
         "yaxis": "y"
        },
        {
         "hovertemplate": "variable=Trasporti_tramviari_op_guidatore<br>Anni=%{x}<br>value=%{y}<extra></extra>",
         "legendgroup": "Trasporti_tramviari_op_guidatore",
         "line": {
          "color": "#EF553B",
          "dash": "solid"
         },
         "marker": {
          "symbol": "circle"
         },
         "mode": "lines",
         "name": "Trasporti_tramviari_op_guidatore",
         "orientation": "v",
         "showlegend": true,
         "type": "scatter",
         "x": {
          "bdata": "xgfHB8gHyQfKB8sHzAfNB84HzwfQB9EH0gfTB9QH1QfWB9cH2AfZB9oH2wfcB90H3gffBw==",
          "dtype": "i2"
         },
         "xaxis": "x",
         "y": {
          "bdata": "MzMzM3OYzUAzMzMzM6PPQGZmZmamJtBAmpmZmblH0ECamZmZuUfQQJqZmZmZ8tBAZmZmZsaB0UBmZmZmJqHRQM3MzMxMftJAMzMzM5PA0kAzMzMzk8DSQDMzMzOT2NJAYEo0szji0kBprUdl3fjSQMsXYlJpxtNAiyW0/r031ECo/ZQyM8fUQBgvac7if9VAG3Ezoifu1UDOkfgJk03WQJqZmZn5O9dAmpmZmfk710CamZmZ+TvXQJqZmZn5O9dAmpmZmfk710CamZmZeUXXQA==",
          "dtype": "f8"
         },
         "yaxis": "y"
        },
        {
         "hovertemplate": "variable=Energia_elettrica_op_2cat<br>Anni=%{x}<br>value=%{y}<extra></extra>",
         "legendgroup": "Energia_elettrica_op_2cat",
         "line": {
          "color": "#00cc96",
          "dash": "solid"
         },
         "marker": {
          "symbol": "circle"
         },
         "mode": "lines",
         "name": "Energia_elettrica_op_2cat",
         "orientation": "v",
         "showlegend": true,
         "type": "scatter",
         "x": {
          "bdata": "xgfHB8gHyQfKB8sHzAfNB84HzwfQB9EH0gfTB9QH1QfWB9cH2AfZB9oH2wfcB90H3gffBw==",
          "dtype": "i2"
         },
         "xaxis": "x",
         "y": {
          "bdata": "zczMzExNyUDNzMzMDMjLQGZmZmamK81AZmZmZiaDzkAAAAAAQPLPQDMzMzNTjNBAZmZmZsY10UDNzMzMTDXSQJqZmZm5C9NAmpmZmXkV00CamZmZeRXTQJ9Dtj/lLdNADv9lzhqj00ChkVtVDvHTQPVAjtp+U9RAcGfTzwAr1UC7AwI+JFnVQH9HAWChMdZA2arqhpLH1kCpEG62HkTXQGZmZmaGNNZAMzMzMxOs1kDNzMzMbDPXQAAAAADggtdAzczMzKwG2EDNzMzMDITYQA==",
          "dtype": "f8"
         },
         "yaxis": "y"
        },
        {
         "hovertemplate": "variable=Industria_meccanica_op_2cat<br>Anni=%{x}<br>value=%{y}<extra></extra>",
         "legendgroup": "Industria_meccanica_op_2cat",
         "line": {
          "color": "#ab63fa",
          "dash": "solid"
         },
         "marker": {
          "symbol": "circle"
         },
         "mode": "lines",
         "name": "Industria_meccanica_op_2cat",
         "orientation": "v",
         "showlegend": true,
         "type": "scatter",
         "x": {
          "bdata": "xgfHB8gHyQfKB8sHzAfNB84HzwfQB9EH0gfTB9QH1QfWB9cH2AfZB9oH2wfcB90H3gffBw==",
          "dtype": "i2"
         },
         "xaxis": "x",
         "y": {
          "bdata": "zczMzMyQwkBmZmZm5qnEQJqZmZlZssVAMzMzM3OFxkAAAAAAwPjGQAAAAACA+8dAMzMzM7OzyEAzMzMz87bJQM3MzMwMg8pAzczMzIwRy0AzMzMz87DLQEwLLLqJMMxAe+MHW7r/zEBex7kseY7NQAteeM6Cas5Avh4bmvtTz0CatbHlgzLQQD6x0s3Yj9BA2K/HBpAa0UCriewglZnRQGZmZmZGr9FAmpmZmVkQ0kDNzMzMTHbSQM3MzMws19JAMzMzMxNN00DNzMzM7MbTQA==",
          "dtype": "f8"
         },
         "yaxis": "y"
        },
        {
         "hovertemplate": "variable=Industria_meccanica_imp_3cat<br>Anni=%{x}<br>value=%{y}<extra></extra>",
         "legendgroup": "Industria_meccanica_imp_3cat",
         "line": {
          "color": "#FFA15A",
          "dash": "solid"
         },
         "marker": {
          "symbol": "circle"
         },
         "mode": "lines",
         "name": "Industria_meccanica_imp_3cat",
         "orientation": "v",
         "showlegend": true,
         "type": "scatter",
         "x": {
          "bdata": "xgfHB8gHyQfKB8sHzAfNB84HzwfQB9EH0gfTB9QH1QfWB9cH2AfZB9oH2wfcB90H3gffBw==",
          "dtype": "i2"
         },
         "xaxis": "x",
         "y": {
          "bdata": "MzMzM/PBwkAAAAAAAAfFQGZmZmbmHsZAMzMzM3MBx0AAAAAAAIPHQDMzMzPzqchAzczMzEx6yUDNzMzMzJ/KQGZmZmbmectAMzMzM7MbzEDNzMzMTFjNQP58+IUH581ADgrFTqTWzkDbxDQZzHrPQM2BL5aKPNBA7iKOrXGL0EAAFtjneSjRQINYifugktFAO80bihox0kA4oWu6FsLSQJqZmZnZSdNAmpmZmfm600AAAAAAwDHUQAAAAADAlNRAAAAAAAAU1UDNzMzMbKHVQA==",
          "dtype": "f8"
         },
         "yaxis": "y"
        }
       ],
       "layout": {
        "legend": {
         "title": {
          "text": "variable"
         },
         "tracegroupgap": 0
        },
        "template": {
         "data": {
          "bar": [
           {
            "error_x": {
             "color": "#2a3f5f"
            },
            "error_y": {
             "color": "#2a3f5f"
            },
            "marker": {
             "line": {
              "color": "#E5ECF6",
              "width": 0.5
             },
             "pattern": {
              "fillmode": "overlay",
              "size": 10,
              "solidity": 0.2
             }
            },
            "type": "bar"
           }
          ],
          "barpolar": [
           {
            "marker": {
             "line": {
              "color": "#E5ECF6",
              "width": 0.5
             },
             "pattern": {
              "fillmode": "overlay",
              "size": 10,
              "solidity": 0.2
             }
            },
            "type": "barpolar"
           }
          ],
          "carpet": [
           {
            "aaxis": {
             "endlinecolor": "#2a3f5f",
             "gridcolor": "white",
             "linecolor": "white",
             "minorgridcolor": "white",
             "startlinecolor": "#2a3f5f"
            },
            "baxis": {
             "endlinecolor": "#2a3f5f",
             "gridcolor": "white",
             "linecolor": "white",
             "minorgridcolor": "white",
             "startlinecolor": "#2a3f5f"
            },
            "type": "carpet"
           }
          ],
          "choropleth": [
           {
            "colorbar": {
             "outlinewidth": 0,
             "ticks": ""
            },
            "type": "choropleth"
           }
          ],
          "contour": [
           {
            "colorbar": {
             "outlinewidth": 0,
             "ticks": ""
            },
            "colorscale": [
             [
              0,
              "#0d0887"
             ],
             [
              0.1111111111111111,
              "#46039f"
             ],
             [
              0.2222222222222222,
              "#7201a8"
             ],
             [
              0.3333333333333333,
              "#9c179e"
             ],
             [
              0.4444444444444444,
              "#bd3786"
             ],
             [
              0.5555555555555556,
              "#d8576b"
             ],
             [
              0.6666666666666666,
              "#ed7953"
             ],
             [
              0.7777777777777778,
              "#fb9f3a"
             ],
             [
              0.8888888888888888,
              "#fdca26"
             ],
             [
              1,
              "#f0f921"
             ]
            ],
            "type": "contour"
           }
          ],
          "contourcarpet": [
           {
            "colorbar": {
             "outlinewidth": 0,
             "ticks": ""
            },
            "type": "contourcarpet"
           }
          ],
          "heatmap": [
           {
            "colorbar": {
             "outlinewidth": 0,
             "ticks": ""
            },
            "colorscale": [
             [
              0,
              "#0d0887"
             ],
             [
              0.1111111111111111,
              "#46039f"
             ],
             [
              0.2222222222222222,
              "#7201a8"
             ],
             [
              0.3333333333333333,
              "#9c179e"
             ],
             [
              0.4444444444444444,
              "#bd3786"
             ],
             [
              0.5555555555555556,
              "#d8576b"
             ],
             [
              0.6666666666666666,
              "#ed7953"
             ],
             [
              0.7777777777777778,
              "#fb9f3a"
             ],
             [
              0.8888888888888888,
              "#fdca26"
             ],
             [
              1,
              "#f0f921"
             ]
            ],
            "type": "heatmap"
           }
          ],
          "histogram": [
           {
            "marker": {
             "pattern": {
              "fillmode": "overlay",
              "size": 10,
              "solidity": 0.2
             }
            },
            "type": "histogram"
           }
          ],
          "histogram2d": [
           {
            "colorbar": {
             "outlinewidth": 0,
             "ticks": ""
            },
            "colorscale": [
             [
              0,
              "#0d0887"
             ],
             [
              0.1111111111111111,
              "#46039f"
             ],
             [
              0.2222222222222222,
              "#7201a8"
             ],
             [
              0.3333333333333333,
              "#9c179e"
             ],
             [
              0.4444444444444444,
              "#bd3786"
             ],
             [
              0.5555555555555556,
              "#d8576b"
             ],
             [
              0.6666666666666666,
              "#ed7953"
             ],
             [
              0.7777777777777778,
              "#fb9f3a"
             ],
             [
              0.8888888888888888,
              "#fdca26"
             ],
             [
              1,
              "#f0f921"
             ]
            ],
            "type": "histogram2d"
           }
          ],
          "histogram2dcontour": [
           {
            "colorbar": {
             "outlinewidth": 0,
             "ticks": ""
            },
            "colorscale": [
             [
              0,
              "#0d0887"
             ],
             [
              0.1111111111111111,
              "#46039f"
             ],
             [
              0.2222222222222222,
              "#7201a8"
             ],
             [
              0.3333333333333333,
              "#9c179e"
             ],
             [
              0.4444444444444444,
              "#bd3786"
             ],
             [
              0.5555555555555556,
              "#d8576b"
             ],
             [
              0.6666666666666666,
              "#ed7953"
             ],
             [
              0.7777777777777778,
              "#fb9f3a"
             ],
             [
              0.8888888888888888,
              "#fdca26"
             ],
             [
              1,
              "#f0f921"
             ]
            ],
            "type": "histogram2dcontour"
           }
          ],
          "mesh3d": [
           {
            "colorbar": {
             "outlinewidth": 0,
             "ticks": ""
            },
            "type": "mesh3d"
           }
          ],
          "parcoords": [
           {
            "line": {
             "colorbar": {
              "outlinewidth": 0,
              "ticks": ""
             }
            },
            "type": "parcoords"
           }
          ],
          "pie": [
           {
            "automargin": true,
            "type": "pie"
           }
          ],
          "scatter": [
           {
            "fillpattern": {
             "fillmode": "overlay",
             "size": 10,
             "solidity": 0.2
            },
            "type": "scatter"
           }
          ],
          "scatter3d": [
           {
            "line": {
             "colorbar": {
              "outlinewidth": 0,
              "ticks": ""
             }
            },
            "marker": {
             "colorbar": {
              "outlinewidth": 0,
              "ticks": ""
             }
            },
            "type": "scatter3d"
           }
          ],
          "scattercarpet": [
           {
            "marker": {
             "colorbar": {
              "outlinewidth": 0,
              "ticks": ""
             }
            },
            "type": "scattercarpet"
           }
          ],
          "scattergeo": [
           {
            "marker": {
             "colorbar": {
              "outlinewidth": 0,
              "ticks": ""
             }
            },
            "type": "scattergeo"
           }
          ],
          "scattergl": [
           {
            "marker": {
             "colorbar": {
              "outlinewidth": 0,
              "ticks": ""
             }
            },
            "type": "scattergl"
           }
          ],
          "scattermap": [
           {
            "marker": {
             "colorbar": {
              "outlinewidth": 0,
              "ticks": ""
             }
            },
            "type": "scattermap"
           }
          ],
          "scattermapbox": [
           {
            "marker": {
             "colorbar": {
              "outlinewidth": 0,
              "ticks": ""
             }
            },
            "type": "scattermapbox"
           }
          ],
          "scatterpolar": [
           {
            "marker": {
             "colorbar": {
              "outlinewidth": 0,
              "ticks": ""
             }
            },
            "type": "scatterpolar"
           }
          ],
          "scatterpolargl": [
           {
            "marker": {
             "colorbar": {
              "outlinewidth": 0,
              "ticks": ""
             }
            },
            "type": "scatterpolargl"
           }
          ],
          "scatterternary": [
           {
            "marker": {
             "colorbar": {
              "outlinewidth": 0,
              "ticks": ""
             }
            },
            "type": "scatterternary"
           }
          ],
          "surface": [
           {
            "colorbar": {
             "outlinewidth": 0,
             "ticks": ""
            },
            "colorscale": [
             [
              0,
              "#0d0887"
             ],
             [
              0.1111111111111111,
              "#46039f"
             ],
             [
              0.2222222222222222,
              "#7201a8"
             ],
             [
              0.3333333333333333,
              "#9c179e"
             ],
             [
              0.4444444444444444,
              "#bd3786"
             ],
             [
              0.5555555555555556,
              "#d8576b"
             ],
             [
              0.6666666666666666,
              "#ed7953"
             ],
             [
              0.7777777777777778,
              "#fb9f3a"
             ],
             [
              0.8888888888888888,
              "#fdca26"
             ],
             [
              1,
              "#f0f921"
             ]
            ],
            "type": "surface"
           }
          ],
          "table": [
           {
            "cells": {
             "fill": {
              "color": "#EBF0F8"
             },
             "line": {
              "color": "white"
             }
            },
            "header": {
             "fill": {
              "color": "#C8D4E3"
             },
             "line": {
              "color": "white"
             }
            },
            "type": "table"
           }
          ]
         },
         "layout": {
          "annotationdefaults": {
           "arrowcolor": "#2a3f5f",
           "arrowhead": 0,
           "arrowwidth": 1
          },
          "autotypenumbers": "strict",
          "coloraxis": {
           "colorbar": {
            "outlinewidth": 0,
            "ticks": ""
           }
          },
          "colorscale": {
           "diverging": [
            [
             0,
             "#8e0152"
            ],
            [
             0.1,
             "#c51b7d"
            ],
            [
             0.2,
             "#de77ae"
            ],
            [
             0.3,
             "#f1b6da"
            ],
            [
             0.4,
             "#fde0ef"
            ],
            [
             0.5,
             "#f7f7f7"
            ],
            [
             0.6,
             "#e6f5d0"
            ],
            [
             0.7,
             "#b8e186"
            ],
            [
             0.8,
             "#7fbc41"
            ],
            [
             0.9,
             "#4d9221"
            ],
            [
             1,
             "#276419"
            ]
           ],
           "sequential": [
            [
             0,
             "#0d0887"
            ],
            [
             0.1111111111111111,
             "#46039f"
            ],
            [
             0.2222222222222222,
             "#7201a8"
            ],
            [
             0.3333333333333333,
             "#9c179e"
            ],
            [
             0.4444444444444444,
             "#bd3786"
            ],
            [
             0.5555555555555556,
             "#d8576b"
            ],
            [
             0.6666666666666666,
             "#ed7953"
            ],
            [
             0.7777777777777778,
             "#fb9f3a"
            ],
            [
             0.8888888888888888,
             "#fdca26"
            ],
            [
             1,
             "#f0f921"
            ]
           ],
           "sequentialminus": [
            [
             0,
             "#0d0887"
            ],
            [
             0.1111111111111111,
             "#46039f"
            ],
            [
             0.2222222222222222,
             "#7201a8"
            ],
            [
             0.3333333333333333,
             "#9c179e"
            ],
            [
             0.4444444444444444,
             "#bd3786"
            ],
            [
             0.5555555555555556,
             "#d8576b"
            ],
            [
             0.6666666666666666,
             "#ed7953"
            ],
            [
             0.7777777777777778,
             "#fb9f3a"
            ],
            [
             0.8888888888888888,
             "#fdca26"
            ],
            [
             1,
             "#f0f921"
            ]
           ]
          },
          "colorway": [
           "#636efa",
           "#EF553B",
           "#00cc96",
           "#ab63fa",
           "#FFA15A",
           "#19d3f3",
           "#FF6692",
           "#B6E880",
           "#FF97FF",
           "#FECB52"
          ],
          "font": {
           "color": "#2a3f5f"
          },
          "geo": {
           "bgcolor": "white",
           "lakecolor": "white",
           "landcolor": "#E5ECF6",
           "showlakes": true,
           "showland": true,
           "subunitcolor": "white"
          },
          "hoverlabel": {
           "align": "left"
          },
          "hovermode": "closest",
          "mapbox": {
           "style": "light"
          },
          "paper_bgcolor": "white",
          "plot_bgcolor": "#E5ECF6",
          "polar": {
           "angularaxis": {
            "gridcolor": "white",
            "linecolor": "white",
            "ticks": ""
           },
           "bgcolor": "#E5ECF6",
           "radialaxis": {
            "gridcolor": "white",
            "linecolor": "white",
            "ticks": ""
           }
          },
          "scene": {
           "xaxis": {
            "backgroundcolor": "#E5ECF6",
            "gridcolor": "white",
            "gridwidth": 2,
            "linecolor": "white",
            "showbackground": true,
            "ticks": "",
            "zerolinecolor": "white"
           },
           "yaxis": {
            "backgroundcolor": "#E5ECF6",
            "gridcolor": "white",
            "gridwidth": 2,
            "linecolor": "white",
            "showbackground": true,
            "ticks": "",
            "zerolinecolor": "white"
           },
           "zaxis": {
            "backgroundcolor": "#E5ECF6",
            "gridcolor": "white",
            "gridwidth": 2,
            "linecolor": "white",
            "showbackground": true,
            "ticks": "",
            "zerolinecolor": "white"
           }
          },
          "shapedefaults": {
           "line": {
            "color": "#2a3f5f"
           }
          },
          "ternary": {
           "aaxis": {
            "gridcolor": "white",
            "linecolor": "white",
            "ticks": ""
           },
           "baxis": {
            "gridcolor": "white",
            "linecolor": "white",
            "ticks": ""
           },
           "bgcolor": "#E5ECF6",
           "caxis": {
            "gridcolor": "white",
            "linecolor": "white",
            "ticks": ""
           }
          },
          "title": {
           "x": 0.05
          },
          "xaxis": {
           "automargin": true,
           "gridcolor": "white",
           "linecolor": "white",
           "ticks": "",
           "title": {
            "standoff": 15
           },
           "zerolinecolor": "white",
           "zerolinewidth": 2
          },
          "yaxis": {
           "automargin": true,
           "gridcolor": "white",
           "linecolor": "white",
           "ticks": "",
           "title": {
            "standoff": 15
           },
           "zerolinecolor": "white",
           "zerolinewidth": 2
          }
         }
        },
        "title": {
         "text": "Esercizio Pandas"
        },
        "xaxis": {
         "anchor": "y",
         "domain": [
          0,
          1
         ],
         "title": {
          "text": "Anni"
         }
        },
        "yaxis": {
         "anchor": "x",
         "domain": [
          0,
          1
         ],
         "title": {
          "text": "value"
         }
        }
       }
      }
     },
     "metadata": {},
     "output_type": "display_data"
    }
   ],
   "source": [
    "fig1 = px.line(df, x='Anni', y=[\"Commercio_al_minuto_commesso\", \"Trasporti_tramviari_op_guidatore\",\"Energia_elettrica_op_2cat\",\"Industria_meccanica_op_2cat\",\"Industria_meccanica_imp_3cat\"], title='Esercizio Pandas')\n",
    "fig1.show(render_mode='notebook')"
   ]
  },
  {
   "cell_type": "markdown",
   "id": "0a3f3259",
   "metadata": {},
   "source": [
    "Creazione grafico a torta con la somma dei valori annuali per settore con plotly.express"
   ]
  },
  {
   "cell_type": "code",
   "execution_count": 14,
   "id": "1ce22bc1",
   "metadata": {},
   "outputs": [
    {
     "data": {
      "text/html": [
       "<div>\n",
       "<style scoped>\n",
       "    .dataframe tbody tr th:only-of-type {\n",
       "        vertical-align: middle;\n",
       "    }\n",
       "\n",
       "    .dataframe tbody tr th {\n",
       "        vertical-align: top;\n",
       "    }\n",
       "\n",
       "    .dataframe thead th {\n",
       "        text-align: right;\n",
       "    }\n",
       "</style>\n",
       "<table border=\"1\" class=\"dataframe\">\n",
       "  <thead>\n",
       "    <tr style=\"text-align: right;\">\n",
       "      <th></th>\n",
       "      <th>Anni</th>\n",
       "      <th>Settore</th>\n",
       "      <th>Valore</th>\n",
       "    </tr>\n",
       "  </thead>\n",
       "  <tbody>\n",
       "    <tr>\n",
       "      <th>0</th>\n",
       "      <td>1990</td>\n",
       "      <td>Commercio_al_minuto_commesso</td>\n",
       "      <td>9357.7</td>\n",
       "    </tr>\n",
       "    <tr>\n",
       "      <th>1</th>\n",
       "      <td>1991</td>\n",
       "      <td>Commercio_al_minuto_commesso</td>\n",
       "      <td>10340.3</td>\n",
       "    </tr>\n",
       "    <tr>\n",
       "      <th>2</th>\n",
       "      <td>1992</td>\n",
       "      <td>Commercio_al_minuto_commesso</td>\n",
       "      <td>11074.5</td>\n",
       "    </tr>\n",
       "    <tr>\n",
       "      <th>3</th>\n",
       "      <td>1993</td>\n",
       "      <td>Commercio_al_minuto_commesso</td>\n",
       "      <td>11550.7</td>\n",
       "    </tr>\n",
       "    <tr>\n",
       "      <th>4</th>\n",
       "      <td>1994</td>\n",
       "      <td>Commercio_al_minuto_commesso</td>\n",
       "      <td>12289.9</td>\n",
       "    </tr>\n",
       "    <tr>\n",
       "      <th>...</th>\n",
       "      <td>...</td>\n",
       "      <td>...</td>\n",
       "      <td>...</td>\n",
       "    </tr>\n",
       "    <tr>\n",
       "      <th>125</th>\n",
       "      <td>2011</td>\n",
       "      <td>Industria_meccanica_imp_3cat</td>\n",
       "      <td>20203.9</td>\n",
       "    </tr>\n",
       "    <tr>\n",
       "      <th>126</th>\n",
       "      <td>2012</td>\n",
       "      <td>Industria_meccanica_imp_3cat</td>\n",
       "      <td>20679.0</td>\n",
       "    </tr>\n",
       "    <tr>\n",
       "      <th>127</th>\n",
       "      <td>2013</td>\n",
       "      <td>Industria_meccanica_imp_3cat</td>\n",
       "      <td>21075.0</td>\n",
       "    </tr>\n",
       "    <tr>\n",
       "      <th>128</th>\n",
       "      <td>2014</td>\n",
       "      <td>Industria_meccanica_imp_3cat</td>\n",
       "      <td>21584.0</td>\n",
       "    </tr>\n",
       "    <tr>\n",
       "      <th>129</th>\n",
       "      <td>2015</td>\n",
       "      <td>Industria_meccanica_imp_3cat</td>\n",
       "      <td>22149.7</td>\n",
       "    </tr>\n",
       "  </tbody>\n",
       "</table>\n",
       "<p>130 rows × 3 columns</p>\n",
       "</div>"
      ],
      "text/plain": [
       "     Anni                       Settore   Valore\n",
       "0    1990  Commercio_al_minuto_commesso   9357.7\n",
       "1    1991  Commercio_al_minuto_commesso  10340.3\n",
       "2    1992  Commercio_al_minuto_commesso  11074.5\n",
       "3    1993  Commercio_al_minuto_commesso  11550.7\n",
       "4    1994  Commercio_al_minuto_commesso  12289.9\n",
       "..    ...                           ...      ...\n",
       "125  2011  Industria_meccanica_imp_3cat  20203.9\n",
       "126  2012  Industria_meccanica_imp_3cat  20679.0\n",
       "127  2013  Industria_meccanica_imp_3cat  21075.0\n",
       "128  2014  Industria_meccanica_imp_3cat  21584.0\n",
       "129  2015  Industria_meccanica_imp_3cat  22149.7\n",
       "\n",
       "[130 rows x 3 columns]"
      ]
     },
     "metadata": {},
     "output_type": "display_data"
    },
    {
     "data": {
      "application/vnd.plotly.v1+json": {
       "config": {
        "plotlyServerURL": "https://plot.ly"
       },
       "data": [
        {
         "domain": {
          "x": [
           0,
           1
          ],
          "y": [
           0,
           1
          ]
         },
         "hovertemplate": "Settore=%{label}<br>Valore=%{value}<extra></extra>",
         "labels": [
          "Commercio_al_minuto_commesso",
          "Commercio_al_minuto_commesso",
          "Commercio_al_minuto_commesso",
          "Commercio_al_minuto_commesso",
          "Commercio_al_minuto_commesso",
          "Commercio_al_minuto_commesso",
          "Commercio_al_minuto_commesso",
          "Commercio_al_minuto_commesso",
          "Commercio_al_minuto_commesso",
          "Commercio_al_minuto_commesso",
          "Commercio_al_minuto_commesso",
          "Commercio_al_minuto_commesso",
          "Commercio_al_minuto_commesso",
          "Commercio_al_minuto_commesso",
          "Commercio_al_minuto_commesso",
          "Commercio_al_minuto_commesso",
          "Commercio_al_minuto_commesso",
          "Commercio_al_minuto_commesso",
          "Commercio_al_minuto_commesso",
          "Commercio_al_minuto_commesso",
          "Commercio_al_minuto_commesso",
          "Commercio_al_minuto_commesso",
          "Commercio_al_minuto_commesso",
          "Commercio_al_minuto_commesso",
          "Commercio_al_minuto_commesso",
          "Commercio_al_minuto_commesso",
          "Trasporti_tramviari_op_guidatore",
          "Trasporti_tramviari_op_guidatore",
          "Trasporti_tramviari_op_guidatore",
          "Trasporti_tramviari_op_guidatore",
          "Trasporti_tramviari_op_guidatore",
          "Trasporti_tramviari_op_guidatore",
          "Trasporti_tramviari_op_guidatore",
          "Trasporti_tramviari_op_guidatore",
          "Trasporti_tramviari_op_guidatore",
          "Trasporti_tramviari_op_guidatore",
          "Trasporti_tramviari_op_guidatore",
          "Trasporti_tramviari_op_guidatore",
          "Trasporti_tramviari_op_guidatore",
          "Trasporti_tramviari_op_guidatore",
          "Trasporti_tramviari_op_guidatore",
          "Trasporti_tramviari_op_guidatore",
          "Trasporti_tramviari_op_guidatore",
          "Trasporti_tramviari_op_guidatore",
          "Trasporti_tramviari_op_guidatore",
          "Trasporti_tramviari_op_guidatore",
          "Trasporti_tramviari_op_guidatore",
          "Trasporti_tramviari_op_guidatore",
          "Trasporti_tramviari_op_guidatore",
          "Trasporti_tramviari_op_guidatore",
          "Trasporti_tramviari_op_guidatore",
          "Trasporti_tramviari_op_guidatore",
          "Energia_elettrica_op_2cat",
          "Energia_elettrica_op_2cat",
          "Energia_elettrica_op_2cat",
          "Energia_elettrica_op_2cat",
          "Energia_elettrica_op_2cat",
          "Energia_elettrica_op_2cat",
          "Energia_elettrica_op_2cat",
          "Energia_elettrica_op_2cat",
          "Energia_elettrica_op_2cat",
          "Energia_elettrica_op_2cat",
          "Energia_elettrica_op_2cat",
          "Energia_elettrica_op_2cat",
          "Energia_elettrica_op_2cat",
          "Energia_elettrica_op_2cat",
          "Energia_elettrica_op_2cat",
          "Energia_elettrica_op_2cat",
          "Energia_elettrica_op_2cat",
          "Energia_elettrica_op_2cat",
          "Energia_elettrica_op_2cat",
          "Energia_elettrica_op_2cat",
          "Energia_elettrica_op_2cat",
          "Energia_elettrica_op_2cat",
          "Energia_elettrica_op_2cat",
          "Energia_elettrica_op_2cat",
          "Energia_elettrica_op_2cat",
          "Energia_elettrica_op_2cat",
          "Industria_meccanica_op_2cat",
          "Industria_meccanica_op_2cat",
          "Industria_meccanica_op_2cat",
          "Industria_meccanica_op_2cat",
          "Industria_meccanica_op_2cat",
          "Industria_meccanica_op_2cat",
          "Industria_meccanica_op_2cat",
          "Industria_meccanica_op_2cat",
          "Industria_meccanica_op_2cat",
          "Industria_meccanica_op_2cat",
          "Industria_meccanica_op_2cat",
          "Industria_meccanica_op_2cat",
          "Industria_meccanica_op_2cat",
          "Industria_meccanica_op_2cat",
          "Industria_meccanica_op_2cat",
          "Industria_meccanica_op_2cat",
          "Industria_meccanica_op_2cat",
          "Industria_meccanica_op_2cat",
          "Industria_meccanica_op_2cat",
          "Industria_meccanica_op_2cat",
          "Industria_meccanica_op_2cat",
          "Industria_meccanica_op_2cat",
          "Industria_meccanica_op_2cat",
          "Industria_meccanica_op_2cat",
          "Industria_meccanica_op_2cat",
          "Industria_meccanica_op_2cat",
          "Industria_meccanica_imp_3cat",
          "Industria_meccanica_imp_3cat",
          "Industria_meccanica_imp_3cat",
          "Industria_meccanica_imp_3cat",
          "Industria_meccanica_imp_3cat",
          "Industria_meccanica_imp_3cat",
          "Industria_meccanica_imp_3cat",
          "Industria_meccanica_imp_3cat",
          "Industria_meccanica_imp_3cat",
          "Industria_meccanica_imp_3cat",
          "Industria_meccanica_imp_3cat",
          "Industria_meccanica_imp_3cat",
          "Industria_meccanica_imp_3cat",
          "Industria_meccanica_imp_3cat",
          "Industria_meccanica_imp_3cat",
          "Industria_meccanica_imp_3cat",
          "Industria_meccanica_imp_3cat",
          "Industria_meccanica_imp_3cat",
          "Industria_meccanica_imp_3cat",
          "Industria_meccanica_imp_3cat",
          "Industria_meccanica_imp_3cat",
          "Industria_meccanica_imp_3cat",
          "Industria_meccanica_imp_3cat",
          "Industria_meccanica_imp_3cat",
          "Industria_meccanica_imp_3cat",
          "Industria_meccanica_imp_3cat"
         ],
         "legendgroup": "",
         "name": "",
         "showlegend": true,
         "type": "pie",
         "values": {
          "bdata": "mpmZmdlGwkBmZmZmJjLEQAAAAABAocVAmpmZmVmPxkAzMzMz8wDIQM3MzMwMA8lAzczMzMwcykBmZmZm5q3LQAAAAABAZc1AzczMzAzlzkCamZmZ2UvPQOxRuB4FtM9AZmZmZsZd0EBmZmZmxrzQQDMzMzMzBdFAzczMzOwG0kAzMzMzk1LSQJqZmZmZttJAMzMzM7MW00AzMzMzU8zTQAAAAACAfNRAAAAAAADk1EBmZmZmRj7VQDMzMzNTrtVAZmZmZsbm1UDNzMzMTBfWQDMzMzNzmM1AMzMzMzOjz0BmZmZmpibQQJqZmZm5R9BAmpmZmblH0ECamZmZmfLQQGZmZmbGgdFAZmZmZiah0UDNzMzMTH7SQDMzMzOTwNJAMzMzM5PA0kAzMzMzk9jSQGBKNLM44tJAaa1HZd340kDLF2JSacbTQIsltP69N9RAqP2UMjPH1EAYL2nO4n/VQBtxM6In7tVAzpH4CZNN1kCamZmZ+TvXQJqZmZn5O9dAmpmZmfk710CamZmZ+TvXQJqZmZn5O9dAmpmZmXlF10DNzMzMTE3JQM3MzMwMyMtAZmZmZqYrzUBmZmZmJoPOQAAAAABA8s9AMzMzM1OM0EBmZmZmxjXRQM3MzMxMNdJAmpmZmbkL00CamZmZeRXTQJqZmZl5FdNAn0O2P+Ut00AO/2XOGqPTQKGRW1UO8dNA9UCO2n5T1EBwZ9PPACvVQLsDAj4kWdVAf0cBYKEx1kDZquqGksfWQKkQbrYeRNdAZmZmZoY01kAzMzMzE6zWQM3MzMxsM9dAAAAAAOCC10DNzMzMrAbYQM3MzMwMhNhAzczMzMyQwkBmZmZm5qnEQJqZmZlZssVAMzMzM3OFxkAAAAAAwPjGQAAAAACA+8dAMzMzM7OzyEAzMzMz87bJQM3MzMwMg8pAzczMzIwRy0AzMzMz87DLQEwLLLqJMMxAe+MHW7r/zEBex7kseY7NQAteeM6Cas5Avh4bmvtTz0CatbHlgzLQQD6x0s3Yj9BA2K/HBpAa0UCriewglZnRQGZmZmZGr9FAmpmZmVkQ0kDNzMzMTHbSQM3MzMws19JAMzMzMxNN00DNzMzM7MbTQDMzMzPzwcJAAAAAAAAHxUBmZmZm5h7GQDMzMzNzAcdAAAAAAACDx0AzMzMz86nIQM3MzMxMeslAzczMzMyfykBmZmZm5nnLQDMzMzOzG8xAzczMzExYzUD+fPiFB+fNQA4KxU6k1s5A28Q0Gcx6z0DNgS+WijzQQO4ijq1xi9BAABbY53ko0UCDWIn7oJLRQDvNG4oaMdJAOKFruhbC0kCamZmZ2UnTQJqZmZn5utNAAAAAAMAx1EAAAAAAwJTUQAAAAAAAFNVAzczMzGyh1UA=",
          "dtype": "f8"
         }
        }
       ],
       "layout": {
        "legend": {
         "tracegroupgap": 0
        },
        "template": {
         "data": {
          "bar": [
           {
            "error_x": {
             "color": "#2a3f5f"
            },
            "error_y": {
             "color": "#2a3f5f"
            },
            "marker": {
             "line": {
              "color": "#E5ECF6",
              "width": 0.5
             },
             "pattern": {
              "fillmode": "overlay",
              "size": 10,
              "solidity": 0.2
             }
            },
            "type": "bar"
           }
          ],
          "barpolar": [
           {
            "marker": {
             "line": {
              "color": "#E5ECF6",
              "width": 0.5
             },
             "pattern": {
              "fillmode": "overlay",
              "size": 10,
              "solidity": 0.2
             }
            },
            "type": "barpolar"
           }
          ],
          "carpet": [
           {
            "aaxis": {
             "endlinecolor": "#2a3f5f",
             "gridcolor": "white",
             "linecolor": "white",
             "minorgridcolor": "white",
             "startlinecolor": "#2a3f5f"
            },
            "baxis": {
             "endlinecolor": "#2a3f5f",
             "gridcolor": "white",
             "linecolor": "white",
             "minorgridcolor": "white",
             "startlinecolor": "#2a3f5f"
            },
            "type": "carpet"
           }
          ],
          "choropleth": [
           {
            "colorbar": {
             "outlinewidth": 0,
             "ticks": ""
            },
            "type": "choropleth"
           }
          ],
          "contour": [
           {
            "colorbar": {
             "outlinewidth": 0,
             "ticks": ""
            },
            "colorscale": [
             [
              0,
              "#0d0887"
             ],
             [
              0.1111111111111111,
              "#46039f"
             ],
             [
              0.2222222222222222,
              "#7201a8"
             ],
             [
              0.3333333333333333,
              "#9c179e"
             ],
             [
              0.4444444444444444,
              "#bd3786"
             ],
             [
              0.5555555555555556,
              "#d8576b"
             ],
             [
              0.6666666666666666,
              "#ed7953"
             ],
             [
              0.7777777777777778,
              "#fb9f3a"
             ],
             [
              0.8888888888888888,
              "#fdca26"
             ],
             [
              1,
              "#f0f921"
             ]
            ],
            "type": "contour"
           }
          ],
          "contourcarpet": [
           {
            "colorbar": {
             "outlinewidth": 0,
             "ticks": ""
            },
            "type": "contourcarpet"
           }
          ],
          "heatmap": [
           {
            "colorbar": {
             "outlinewidth": 0,
             "ticks": ""
            },
            "colorscale": [
             [
              0,
              "#0d0887"
             ],
             [
              0.1111111111111111,
              "#46039f"
             ],
             [
              0.2222222222222222,
              "#7201a8"
             ],
             [
              0.3333333333333333,
              "#9c179e"
             ],
             [
              0.4444444444444444,
              "#bd3786"
             ],
             [
              0.5555555555555556,
              "#d8576b"
             ],
             [
              0.6666666666666666,
              "#ed7953"
             ],
             [
              0.7777777777777778,
              "#fb9f3a"
             ],
             [
              0.8888888888888888,
              "#fdca26"
             ],
             [
              1,
              "#f0f921"
             ]
            ],
            "type": "heatmap"
           }
          ],
          "histogram": [
           {
            "marker": {
             "pattern": {
              "fillmode": "overlay",
              "size": 10,
              "solidity": 0.2
             }
            },
            "type": "histogram"
           }
          ],
          "histogram2d": [
           {
            "colorbar": {
             "outlinewidth": 0,
             "ticks": ""
            },
            "colorscale": [
             [
              0,
              "#0d0887"
             ],
             [
              0.1111111111111111,
              "#46039f"
             ],
             [
              0.2222222222222222,
              "#7201a8"
             ],
             [
              0.3333333333333333,
              "#9c179e"
             ],
             [
              0.4444444444444444,
              "#bd3786"
             ],
             [
              0.5555555555555556,
              "#d8576b"
             ],
             [
              0.6666666666666666,
              "#ed7953"
             ],
             [
              0.7777777777777778,
              "#fb9f3a"
             ],
             [
              0.8888888888888888,
              "#fdca26"
             ],
             [
              1,
              "#f0f921"
             ]
            ],
            "type": "histogram2d"
           }
          ],
          "histogram2dcontour": [
           {
            "colorbar": {
             "outlinewidth": 0,
             "ticks": ""
            },
            "colorscale": [
             [
              0,
              "#0d0887"
             ],
             [
              0.1111111111111111,
              "#46039f"
             ],
             [
              0.2222222222222222,
              "#7201a8"
             ],
             [
              0.3333333333333333,
              "#9c179e"
             ],
             [
              0.4444444444444444,
              "#bd3786"
             ],
             [
              0.5555555555555556,
              "#d8576b"
             ],
             [
              0.6666666666666666,
              "#ed7953"
             ],
             [
              0.7777777777777778,
              "#fb9f3a"
             ],
             [
              0.8888888888888888,
              "#fdca26"
             ],
             [
              1,
              "#f0f921"
             ]
            ],
            "type": "histogram2dcontour"
           }
          ],
          "mesh3d": [
           {
            "colorbar": {
             "outlinewidth": 0,
             "ticks": ""
            },
            "type": "mesh3d"
           }
          ],
          "parcoords": [
           {
            "line": {
             "colorbar": {
              "outlinewidth": 0,
              "ticks": ""
             }
            },
            "type": "parcoords"
           }
          ],
          "pie": [
           {
            "automargin": true,
            "type": "pie"
           }
          ],
          "scatter": [
           {
            "fillpattern": {
             "fillmode": "overlay",
             "size": 10,
             "solidity": 0.2
            },
            "type": "scatter"
           }
          ],
          "scatter3d": [
           {
            "line": {
             "colorbar": {
              "outlinewidth": 0,
              "ticks": ""
             }
            },
            "marker": {
             "colorbar": {
              "outlinewidth": 0,
              "ticks": ""
             }
            },
            "type": "scatter3d"
           }
          ],
          "scattercarpet": [
           {
            "marker": {
             "colorbar": {
              "outlinewidth": 0,
              "ticks": ""
             }
            },
            "type": "scattercarpet"
           }
          ],
          "scattergeo": [
           {
            "marker": {
             "colorbar": {
              "outlinewidth": 0,
              "ticks": ""
             }
            },
            "type": "scattergeo"
           }
          ],
          "scattergl": [
           {
            "marker": {
             "colorbar": {
              "outlinewidth": 0,
              "ticks": ""
             }
            },
            "type": "scattergl"
           }
          ],
          "scattermap": [
           {
            "marker": {
             "colorbar": {
              "outlinewidth": 0,
              "ticks": ""
             }
            },
            "type": "scattermap"
           }
          ],
          "scattermapbox": [
           {
            "marker": {
             "colorbar": {
              "outlinewidth": 0,
              "ticks": ""
             }
            },
            "type": "scattermapbox"
           }
          ],
          "scatterpolar": [
           {
            "marker": {
             "colorbar": {
              "outlinewidth": 0,
              "ticks": ""
             }
            },
            "type": "scatterpolar"
           }
          ],
          "scatterpolargl": [
           {
            "marker": {
             "colorbar": {
              "outlinewidth": 0,
              "ticks": ""
             }
            },
            "type": "scatterpolargl"
           }
          ],
          "scatterternary": [
           {
            "marker": {
             "colorbar": {
              "outlinewidth": 0,
              "ticks": ""
             }
            },
            "type": "scatterternary"
           }
          ],
          "surface": [
           {
            "colorbar": {
             "outlinewidth": 0,
             "ticks": ""
            },
            "colorscale": [
             [
              0,
              "#0d0887"
             ],
             [
              0.1111111111111111,
              "#46039f"
             ],
             [
              0.2222222222222222,
              "#7201a8"
             ],
             [
              0.3333333333333333,
              "#9c179e"
             ],
             [
              0.4444444444444444,
              "#bd3786"
             ],
             [
              0.5555555555555556,
              "#d8576b"
             ],
             [
              0.6666666666666666,
              "#ed7953"
             ],
             [
              0.7777777777777778,
              "#fb9f3a"
             ],
             [
              0.8888888888888888,
              "#fdca26"
             ],
             [
              1,
              "#f0f921"
             ]
            ],
            "type": "surface"
           }
          ],
          "table": [
           {
            "cells": {
             "fill": {
              "color": "#EBF0F8"
             },
             "line": {
              "color": "white"
             }
            },
            "header": {
             "fill": {
              "color": "#C8D4E3"
             },
             "line": {
              "color": "white"
             }
            },
            "type": "table"
           }
          ]
         },
         "layout": {
          "annotationdefaults": {
           "arrowcolor": "#2a3f5f",
           "arrowhead": 0,
           "arrowwidth": 1
          },
          "autotypenumbers": "strict",
          "coloraxis": {
           "colorbar": {
            "outlinewidth": 0,
            "ticks": ""
           }
          },
          "colorscale": {
           "diverging": [
            [
             0,
             "#8e0152"
            ],
            [
             0.1,
             "#c51b7d"
            ],
            [
             0.2,
             "#de77ae"
            ],
            [
             0.3,
             "#f1b6da"
            ],
            [
             0.4,
             "#fde0ef"
            ],
            [
             0.5,
             "#f7f7f7"
            ],
            [
             0.6,
             "#e6f5d0"
            ],
            [
             0.7,
             "#b8e186"
            ],
            [
             0.8,
             "#7fbc41"
            ],
            [
             0.9,
             "#4d9221"
            ],
            [
             1,
             "#276419"
            ]
           ],
           "sequential": [
            [
             0,
             "#0d0887"
            ],
            [
             0.1111111111111111,
             "#46039f"
            ],
            [
             0.2222222222222222,
             "#7201a8"
            ],
            [
             0.3333333333333333,
             "#9c179e"
            ],
            [
             0.4444444444444444,
             "#bd3786"
            ],
            [
             0.5555555555555556,
             "#d8576b"
            ],
            [
             0.6666666666666666,
             "#ed7953"
            ],
            [
             0.7777777777777778,
             "#fb9f3a"
            ],
            [
             0.8888888888888888,
             "#fdca26"
            ],
            [
             1,
             "#f0f921"
            ]
           ],
           "sequentialminus": [
            [
             0,
             "#0d0887"
            ],
            [
             0.1111111111111111,
             "#46039f"
            ],
            [
             0.2222222222222222,
             "#7201a8"
            ],
            [
             0.3333333333333333,
             "#9c179e"
            ],
            [
             0.4444444444444444,
             "#bd3786"
            ],
            [
             0.5555555555555556,
             "#d8576b"
            ],
            [
             0.6666666666666666,
             "#ed7953"
            ],
            [
             0.7777777777777778,
             "#fb9f3a"
            ],
            [
             0.8888888888888888,
             "#fdca26"
            ],
            [
             1,
             "#f0f921"
            ]
           ]
          },
          "colorway": [
           "#636efa",
           "#EF553B",
           "#00cc96",
           "#ab63fa",
           "#FFA15A",
           "#19d3f3",
           "#FF6692",
           "#B6E880",
           "#FF97FF",
           "#FECB52"
          ],
          "font": {
           "color": "#2a3f5f"
          },
          "geo": {
           "bgcolor": "white",
           "lakecolor": "white",
           "landcolor": "#E5ECF6",
           "showlakes": true,
           "showland": true,
           "subunitcolor": "white"
          },
          "hoverlabel": {
           "align": "left"
          },
          "hovermode": "closest",
          "mapbox": {
           "style": "light"
          },
          "paper_bgcolor": "white",
          "plot_bgcolor": "#E5ECF6",
          "polar": {
           "angularaxis": {
            "gridcolor": "white",
            "linecolor": "white",
            "ticks": ""
           },
           "bgcolor": "#E5ECF6",
           "radialaxis": {
            "gridcolor": "white",
            "linecolor": "white",
            "ticks": ""
           }
          },
          "scene": {
           "xaxis": {
            "backgroundcolor": "#E5ECF6",
            "gridcolor": "white",
            "gridwidth": 2,
            "linecolor": "white",
            "showbackground": true,
            "ticks": "",
            "zerolinecolor": "white"
           },
           "yaxis": {
            "backgroundcolor": "#E5ECF6",
            "gridcolor": "white",
            "gridwidth": 2,
            "linecolor": "white",
            "showbackground": true,
            "ticks": "",
            "zerolinecolor": "white"
           },
           "zaxis": {
            "backgroundcolor": "#E5ECF6",
            "gridcolor": "white",
            "gridwidth": 2,
            "linecolor": "white",
            "showbackground": true,
            "ticks": "",
            "zerolinecolor": "white"
           }
          },
          "shapedefaults": {
           "line": {
            "color": "#2a3f5f"
           }
          },
          "ternary": {
           "aaxis": {
            "gridcolor": "white",
            "linecolor": "white",
            "ticks": ""
           },
           "baxis": {
            "gridcolor": "white",
            "linecolor": "white",
            "ticks": ""
           },
           "bgcolor": "#E5ECF6",
           "caxis": {
            "gridcolor": "white",
            "linecolor": "white",
            "ticks": ""
           }
          },
          "title": {
           "x": 0.05
          },
          "xaxis": {
           "automargin": true,
           "gridcolor": "white",
           "linecolor": "white",
           "ticks": "",
           "title": {
            "standoff": 15
           },
           "zerolinecolor": "white",
           "zerolinewidth": 2
          },
          "yaxis": {
           "automargin": true,
           "gridcolor": "white",
           "linecolor": "white",
           "ticks": "",
           "title": {
            "standoff": 15
           },
           "zerolinecolor": "white",
           "zerolinewidth": 2
          }
         }
        },
        "title": {
         "text": "Esercizio Pandas"
        }
       }
      }
     },
     "metadata": {},
     "output_type": "display_data"
    }
   ],
   "source": [
    "df_ribaltato = pd.melt(df, id_vars=[\"Anni\"], \n",
    "    var_name=\"Settore\", \n",
    "    value_name=\"Valore\")\n",
    "display(df_ribaltato)\n",
    "fig2= px.pie(df_ribaltato, values=\"Valore\", names=\"Settore\", title='Esercizio Pandas')\n",
    "fig2.show(render_mode='notebook')"
   ]
  },
  {
   "cell_type": "markdown",
   "id": "af4fefab",
   "metadata": {},
   "source": [
    "Creazione grafico a torta selezionando un anno specifico con plotly.express"
   ]
  },
  {
   "cell_type": "code",
   "execution_count": 20,
   "id": "c8bbde43",
   "metadata": {},
   "outputs": [
    {
     "data": {
      "text/html": [
       "<div>\n",
       "<style scoped>\n",
       "    .dataframe tbody tr th:only-of-type {\n",
       "        vertical-align: middle;\n",
       "    }\n",
       "\n",
       "    .dataframe tbody tr th {\n",
       "        vertical-align: top;\n",
       "    }\n",
       "\n",
       "    .dataframe thead th {\n",
       "        text-align: right;\n",
       "    }\n",
       "</style>\n",
       "<table border=\"1\" class=\"dataframe\">\n",
       "  <thead>\n",
       "    <tr style=\"text-align: right;\">\n",
       "      <th></th>\n",
       "      <th>Anni</th>\n",
       "      <th>Settore</th>\n",
       "      <th>Valore</th>\n",
       "    </tr>\n",
       "  </thead>\n",
       "  <tbody>\n",
       "    <tr>\n",
       "      <th>13</th>\n",
       "      <td>2003</td>\n",
       "      <td>Commercio_al_minuto_commesso</td>\n",
       "      <td>17139.100000</td>\n",
       "    </tr>\n",
       "    <tr>\n",
       "      <th>39</th>\n",
       "      <td>2003</td>\n",
       "      <td>Trasporti_tramviari_op_guidatore</td>\n",
       "      <td>19427.459307</td>\n",
       "    </tr>\n",
       "    <tr>\n",
       "      <th>65</th>\n",
       "      <td>2003</td>\n",
       "      <td>Energia_elettrica_op_2cat</td>\n",
       "      <td>20420.223960</td>\n",
       "    </tr>\n",
       "    <tr>\n",
       "      <th>91</th>\n",
       "      <td>2003</td>\n",
       "      <td>Industria_meccanica_op_2cat</td>\n",
       "      <td>15132.946677</td>\n",
       "    </tr>\n",
       "    <tr>\n",
       "      <th>117</th>\n",
       "      <td>2003</td>\n",
       "      <td>Industria_meccanica_imp_3cat</td>\n",
       "      <td>16117.594519</td>\n",
       "    </tr>\n",
       "  </tbody>\n",
       "</table>\n",
       "</div>"
      ],
      "text/plain": [
       "     Anni                           Settore        Valore\n",
       "13   2003      Commercio_al_minuto_commesso  17139.100000\n",
       "39   2003  Trasporti_tramviari_op_guidatore  19427.459307\n",
       "65   2003         Energia_elettrica_op_2cat  20420.223960\n",
       "91   2003       Industria_meccanica_op_2cat  15132.946677\n",
       "117  2003      Industria_meccanica_imp_3cat  16117.594519"
      ]
     },
     "metadata": {},
     "output_type": "display_data"
    },
    {
     "data": {
      "application/vnd.plotly.v1+json": {
       "config": {
        "plotlyServerURL": "https://plot.ly"
       },
       "data": [
        {
         "domain": {
          "x": [
           0,
           1
          ],
          "y": [
           0,
           1
          ]
         },
         "hovertemplate": "Settore=%{label}<br>Valore=%{value}<extra></extra>",
         "labels": [
          "Commercio_al_minuto_commesso",
          "Trasporti_tramviari_op_guidatore",
          "Energia_elettrica_op_2cat",
          "Industria_meccanica_op_2cat",
          "Industria_meccanica_imp_3cat"
         ],
         "legendgroup": "",
         "name": "",
         "showlegend": true,
         "type": "pie",
         "values": {
          "bdata": "ZmZmZsa80EBprUdl3fjSQKGRW1UO8dNAXse5LHmOzUDbxDQZzHrPQA==",
          "dtype": "f8"
         }
        }
       ],
       "layout": {
        "legend": {
         "tracegroupgap": 0
        },
        "template": {
         "data": {
          "bar": [
           {
            "error_x": {
             "color": "#2a3f5f"
            },
            "error_y": {
             "color": "#2a3f5f"
            },
            "marker": {
             "line": {
              "color": "#E5ECF6",
              "width": 0.5
             },
             "pattern": {
              "fillmode": "overlay",
              "size": 10,
              "solidity": 0.2
             }
            },
            "type": "bar"
           }
          ],
          "barpolar": [
           {
            "marker": {
             "line": {
              "color": "#E5ECF6",
              "width": 0.5
             },
             "pattern": {
              "fillmode": "overlay",
              "size": 10,
              "solidity": 0.2
             }
            },
            "type": "barpolar"
           }
          ],
          "carpet": [
           {
            "aaxis": {
             "endlinecolor": "#2a3f5f",
             "gridcolor": "white",
             "linecolor": "white",
             "minorgridcolor": "white",
             "startlinecolor": "#2a3f5f"
            },
            "baxis": {
             "endlinecolor": "#2a3f5f",
             "gridcolor": "white",
             "linecolor": "white",
             "minorgridcolor": "white",
             "startlinecolor": "#2a3f5f"
            },
            "type": "carpet"
           }
          ],
          "choropleth": [
           {
            "colorbar": {
             "outlinewidth": 0,
             "ticks": ""
            },
            "type": "choropleth"
           }
          ],
          "contour": [
           {
            "colorbar": {
             "outlinewidth": 0,
             "ticks": ""
            },
            "colorscale": [
             [
              0,
              "#0d0887"
             ],
             [
              0.1111111111111111,
              "#46039f"
             ],
             [
              0.2222222222222222,
              "#7201a8"
             ],
             [
              0.3333333333333333,
              "#9c179e"
             ],
             [
              0.4444444444444444,
              "#bd3786"
             ],
             [
              0.5555555555555556,
              "#d8576b"
             ],
             [
              0.6666666666666666,
              "#ed7953"
             ],
             [
              0.7777777777777778,
              "#fb9f3a"
             ],
             [
              0.8888888888888888,
              "#fdca26"
             ],
             [
              1,
              "#f0f921"
             ]
            ],
            "type": "contour"
           }
          ],
          "contourcarpet": [
           {
            "colorbar": {
             "outlinewidth": 0,
             "ticks": ""
            },
            "type": "contourcarpet"
           }
          ],
          "heatmap": [
           {
            "colorbar": {
             "outlinewidth": 0,
             "ticks": ""
            },
            "colorscale": [
             [
              0,
              "#0d0887"
             ],
             [
              0.1111111111111111,
              "#46039f"
             ],
             [
              0.2222222222222222,
              "#7201a8"
             ],
             [
              0.3333333333333333,
              "#9c179e"
             ],
             [
              0.4444444444444444,
              "#bd3786"
             ],
             [
              0.5555555555555556,
              "#d8576b"
             ],
             [
              0.6666666666666666,
              "#ed7953"
             ],
             [
              0.7777777777777778,
              "#fb9f3a"
             ],
             [
              0.8888888888888888,
              "#fdca26"
             ],
             [
              1,
              "#f0f921"
             ]
            ],
            "type": "heatmap"
           }
          ],
          "histogram": [
           {
            "marker": {
             "pattern": {
              "fillmode": "overlay",
              "size": 10,
              "solidity": 0.2
             }
            },
            "type": "histogram"
           }
          ],
          "histogram2d": [
           {
            "colorbar": {
             "outlinewidth": 0,
             "ticks": ""
            },
            "colorscale": [
             [
              0,
              "#0d0887"
             ],
             [
              0.1111111111111111,
              "#46039f"
             ],
             [
              0.2222222222222222,
              "#7201a8"
             ],
             [
              0.3333333333333333,
              "#9c179e"
             ],
             [
              0.4444444444444444,
              "#bd3786"
             ],
             [
              0.5555555555555556,
              "#d8576b"
             ],
             [
              0.6666666666666666,
              "#ed7953"
             ],
             [
              0.7777777777777778,
              "#fb9f3a"
             ],
             [
              0.8888888888888888,
              "#fdca26"
             ],
             [
              1,
              "#f0f921"
             ]
            ],
            "type": "histogram2d"
           }
          ],
          "histogram2dcontour": [
           {
            "colorbar": {
             "outlinewidth": 0,
             "ticks": ""
            },
            "colorscale": [
             [
              0,
              "#0d0887"
             ],
             [
              0.1111111111111111,
              "#46039f"
             ],
             [
              0.2222222222222222,
              "#7201a8"
             ],
             [
              0.3333333333333333,
              "#9c179e"
             ],
             [
              0.4444444444444444,
              "#bd3786"
             ],
             [
              0.5555555555555556,
              "#d8576b"
             ],
             [
              0.6666666666666666,
              "#ed7953"
             ],
             [
              0.7777777777777778,
              "#fb9f3a"
             ],
             [
              0.8888888888888888,
              "#fdca26"
             ],
             [
              1,
              "#f0f921"
             ]
            ],
            "type": "histogram2dcontour"
           }
          ],
          "mesh3d": [
           {
            "colorbar": {
             "outlinewidth": 0,
             "ticks": ""
            },
            "type": "mesh3d"
           }
          ],
          "parcoords": [
           {
            "line": {
             "colorbar": {
              "outlinewidth": 0,
              "ticks": ""
             }
            },
            "type": "parcoords"
           }
          ],
          "pie": [
           {
            "automargin": true,
            "type": "pie"
           }
          ],
          "scatter": [
           {
            "fillpattern": {
             "fillmode": "overlay",
             "size": 10,
             "solidity": 0.2
            },
            "type": "scatter"
           }
          ],
          "scatter3d": [
           {
            "line": {
             "colorbar": {
              "outlinewidth": 0,
              "ticks": ""
             }
            },
            "marker": {
             "colorbar": {
              "outlinewidth": 0,
              "ticks": ""
             }
            },
            "type": "scatter3d"
           }
          ],
          "scattercarpet": [
           {
            "marker": {
             "colorbar": {
              "outlinewidth": 0,
              "ticks": ""
             }
            },
            "type": "scattercarpet"
           }
          ],
          "scattergeo": [
           {
            "marker": {
             "colorbar": {
              "outlinewidth": 0,
              "ticks": ""
             }
            },
            "type": "scattergeo"
           }
          ],
          "scattergl": [
           {
            "marker": {
             "colorbar": {
              "outlinewidth": 0,
              "ticks": ""
             }
            },
            "type": "scattergl"
           }
          ],
          "scattermap": [
           {
            "marker": {
             "colorbar": {
              "outlinewidth": 0,
              "ticks": ""
             }
            },
            "type": "scattermap"
           }
          ],
          "scattermapbox": [
           {
            "marker": {
             "colorbar": {
              "outlinewidth": 0,
              "ticks": ""
             }
            },
            "type": "scattermapbox"
           }
          ],
          "scatterpolar": [
           {
            "marker": {
             "colorbar": {
              "outlinewidth": 0,
              "ticks": ""
             }
            },
            "type": "scatterpolar"
           }
          ],
          "scatterpolargl": [
           {
            "marker": {
             "colorbar": {
              "outlinewidth": 0,
              "ticks": ""
             }
            },
            "type": "scatterpolargl"
           }
          ],
          "scatterternary": [
           {
            "marker": {
             "colorbar": {
              "outlinewidth": 0,
              "ticks": ""
             }
            },
            "type": "scatterternary"
           }
          ],
          "surface": [
           {
            "colorbar": {
             "outlinewidth": 0,
             "ticks": ""
            },
            "colorscale": [
             [
              0,
              "#0d0887"
             ],
             [
              0.1111111111111111,
              "#46039f"
             ],
             [
              0.2222222222222222,
              "#7201a8"
             ],
             [
              0.3333333333333333,
              "#9c179e"
             ],
             [
              0.4444444444444444,
              "#bd3786"
             ],
             [
              0.5555555555555556,
              "#d8576b"
             ],
             [
              0.6666666666666666,
              "#ed7953"
             ],
             [
              0.7777777777777778,
              "#fb9f3a"
             ],
             [
              0.8888888888888888,
              "#fdca26"
             ],
             [
              1,
              "#f0f921"
             ]
            ],
            "type": "surface"
           }
          ],
          "table": [
           {
            "cells": {
             "fill": {
              "color": "#EBF0F8"
             },
             "line": {
              "color": "white"
             }
            },
            "header": {
             "fill": {
              "color": "#C8D4E3"
             },
             "line": {
              "color": "white"
             }
            },
            "type": "table"
           }
          ]
         },
         "layout": {
          "annotationdefaults": {
           "arrowcolor": "#2a3f5f",
           "arrowhead": 0,
           "arrowwidth": 1
          },
          "autotypenumbers": "strict",
          "coloraxis": {
           "colorbar": {
            "outlinewidth": 0,
            "ticks": ""
           }
          },
          "colorscale": {
           "diverging": [
            [
             0,
             "#8e0152"
            ],
            [
             0.1,
             "#c51b7d"
            ],
            [
             0.2,
             "#de77ae"
            ],
            [
             0.3,
             "#f1b6da"
            ],
            [
             0.4,
             "#fde0ef"
            ],
            [
             0.5,
             "#f7f7f7"
            ],
            [
             0.6,
             "#e6f5d0"
            ],
            [
             0.7,
             "#b8e186"
            ],
            [
             0.8,
             "#7fbc41"
            ],
            [
             0.9,
             "#4d9221"
            ],
            [
             1,
             "#276419"
            ]
           ],
           "sequential": [
            [
             0,
             "#0d0887"
            ],
            [
             0.1111111111111111,
             "#46039f"
            ],
            [
             0.2222222222222222,
             "#7201a8"
            ],
            [
             0.3333333333333333,
             "#9c179e"
            ],
            [
             0.4444444444444444,
             "#bd3786"
            ],
            [
             0.5555555555555556,
             "#d8576b"
            ],
            [
             0.6666666666666666,
             "#ed7953"
            ],
            [
             0.7777777777777778,
             "#fb9f3a"
            ],
            [
             0.8888888888888888,
             "#fdca26"
            ],
            [
             1,
             "#f0f921"
            ]
           ],
           "sequentialminus": [
            [
             0,
             "#0d0887"
            ],
            [
             0.1111111111111111,
             "#46039f"
            ],
            [
             0.2222222222222222,
             "#7201a8"
            ],
            [
             0.3333333333333333,
             "#9c179e"
            ],
            [
             0.4444444444444444,
             "#bd3786"
            ],
            [
             0.5555555555555556,
             "#d8576b"
            ],
            [
             0.6666666666666666,
             "#ed7953"
            ],
            [
             0.7777777777777778,
             "#fb9f3a"
            ],
            [
             0.8888888888888888,
             "#fdca26"
            ],
            [
             1,
             "#f0f921"
            ]
           ]
          },
          "colorway": [
           "#636efa",
           "#EF553B",
           "#00cc96",
           "#ab63fa",
           "#FFA15A",
           "#19d3f3",
           "#FF6692",
           "#B6E880",
           "#FF97FF",
           "#FECB52"
          ],
          "font": {
           "color": "#2a3f5f"
          },
          "geo": {
           "bgcolor": "white",
           "lakecolor": "white",
           "landcolor": "#E5ECF6",
           "showlakes": true,
           "showland": true,
           "subunitcolor": "white"
          },
          "hoverlabel": {
           "align": "left"
          },
          "hovermode": "closest",
          "mapbox": {
           "style": "light"
          },
          "paper_bgcolor": "white",
          "plot_bgcolor": "#E5ECF6",
          "polar": {
           "angularaxis": {
            "gridcolor": "white",
            "linecolor": "white",
            "ticks": ""
           },
           "bgcolor": "#E5ECF6",
           "radialaxis": {
            "gridcolor": "white",
            "linecolor": "white",
            "ticks": ""
           }
          },
          "scene": {
           "xaxis": {
            "backgroundcolor": "#E5ECF6",
            "gridcolor": "white",
            "gridwidth": 2,
            "linecolor": "white",
            "showbackground": true,
            "ticks": "",
            "zerolinecolor": "white"
           },
           "yaxis": {
            "backgroundcolor": "#E5ECF6",
            "gridcolor": "white",
            "gridwidth": 2,
            "linecolor": "white",
            "showbackground": true,
            "ticks": "",
            "zerolinecolor": "white"
           },
           "zaxis": {
            "backgroundcolor": "#E5ECF6",
            "gridcolor": "white",
            "gridwidth": 2,
            "linecolor": "white",
            "showbackground": true,
            "ticks": "",
            "zerolinecolor": "white"
           }
          },
          "shapedefaults": {
           "line": {
            "color": "#2a3f5f"
           }
          },
          "ternary": {
           "aaxis": {
            "gridcolor": "white",
            "linecolor": "white",
            "ticks": ""
           },
           "baxis": {
            "gridcolor": "white",
            "linecolor": "white",
            "ticks": ""
           },
           "bgcolor": "#E5ECF6",
           "caxis": {
            "gridcolor": "white",
            "linecolor": "white",
            "ticks": ""
           }
          },
          "title": {
           "x": 0.05
          },
          "xaxis": {
           "automargin": true,
           "gridcolor": "white",
           "linecolor": "white",
           "ticks": "",
           "title": {
            "standoff": 15
           },
           "zerolinecolor": "white",
           "zerolinewidth": 2
          },
          "yaxis": {
           "automargin": true,
           "gridcolor": "white",
           "linecolor": "white",
           "ticks": "",
           "title": {
            "standoff": 15
           },
           "zerolinecolor": "white",
           "zerolinewidth": 2
          }
         }
        },
        "title": {
         "text": "Esercizio Pandas"
        }
       }
      }
     },
     "metadata": {},
     "output_type": "display_data"
    }
   ],
   "source": [
    "df_2003 = df_ribaltato[df_ribaltato['Anni'] == 2003]  # Filtro per l'anno 2003\n",
    "\n",
    "display(df_2003)\n",
    "\n",
    "fig3= px.pie(df_2003, values=\"Valore\", names=\"Settore\", title='Esercizio Pandas')\n",
    "fig3.show(render_mode='notebook')"
   ]
  }
 ],
 "metadata": {
  "kernelspec": {
   "display_name": "Python 3",
   "language": "python",
   "name": "python3"
  },
  "language_info": {
   "codemirror_mode": {
    "name": "ipython",
    "version": 3
   },
   "file_extension": ".py",
   "mimetype": "text/x-python",
   "name": "python",
   "nbconvert_exporter": "python",
   "pygments_lexer": "ipython3",
   "version": "3.13.1"
  }
 },
 "nbformat": 4,
 "nbformat_minor": 5
}
